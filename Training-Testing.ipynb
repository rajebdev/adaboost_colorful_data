{
 "cells": [
  {
   "cell_type": "markdown",
   "metadata": {},
   "source": [
    "# Proses Training Dataset Colorful"
   ]
  },
  {
   "cell_type": "markdown",
   "metadata": {},
   "source": [
    "### Importing Library"
   ]
  },
  {
   "cell_type": "code",
   "execution_count": 1,
   "metadata": {},
   "outputs": [],
   "source": [
    "import os\n",
    "import csv\n",
    "import numpy as np"
   ]
  },
  {
   "cell_type": "code",
   "execution_count": 166,
   "metadata": {},
   "outputs": [],
   "source": [
    "from sklearn.linear_model import LogisticRegression\n",
    "from sklearn.tree import DecisionTreeClassifier\n",
    "from sklearn.metrics import confusion_matrix\n",
    "from sklearn.metrics import precision_score\n",
    "from sklearn.metrics import recall_score\n",
    "from matplotlib import pyplot as plt\n",
    "import pandas as pd"
   ]
  },
  {
   "cell_type": "markdown",
   "metadata": {},
   "source": [
    "### Load Data fitur From CSV"
   ]
  },
  {
   "cell_type": "code",
   "execution_count": 154,
   "metadata": {},
   "outputs": [],
   "source": [
    "df = pd.read_csv('data/dataset_color.csv')\n",
    "fitur = []\n",
    "for i in range(len(df['fitur0'])):\n",
    "    temp = []\n",
    "    for i in range(20):\n",
    "        temp.append(df['fitur'+str(i)][i])\n",
    "    fitur.append(temp)\n",
    "fitur = np.array(fitur)\n",
    "target = np.array([k for k in df['kelas']])"
   ]
  },
  {
   "cell_type": "markdown",
   "metadata": {},
   "source": [
    "## Adaboost Classification"
   ]
  },
  {
   "cell_type": "code",
   "execution_count": 155,
   "metadata": {},
   "outputs": [],
   "source": [
    "num_feature = len(fitur[0])\n",
    "m = len(target)\n",
    "T = 10"
   ]
  },
  {
   "cell_type": "markdown",
   "metadata": {},
   "source": [
    "### Function Step Adaboost"
   ]
  },
  {
   "cell_type": "code",
   "execution_count": 22,
   "metadata": {},
   "outputs": [],
   "source": [
    "def weight_error_predictor(w, y_pred, y_target):\n",
    "    sumNot = 0\n",
    "    for i in range(m):\n",
    "        if y_pred[i] != y_target[i]:\n",
    "            sumNot += w[i]\n",
    "    return sumNot/w.sum()\n",
    "      "
   ]
  },
  {
   "cell_type": "code",
   "execution_count": 23,
   "metadata": {},
   "outputs": [],
   "source": [
    "def weight_predictor(rj, lrate=1):\n",
    "    '''\n",
    "    Semakin besar weighted error akan membuat bobot predictor semakin \n",
    "    rendah, dan sebaliknya.\n",
    "    Bobot ini digunakan untuk update bobot tiap data pada dataset, \n",
    "    dan prediksi akhir (final aggregation)\n",
    "    '''\n",
    "    # np.log is ln, whereas np.log10 is your standard base 10 log.\n",
    "    return lrate * np.log((1-rj)/rj)\n",
    "    "
   ]
  },
  {
   "cell_type": "code",
   "execution_count": 46,
   "metadata": {},
   "outputs": [],
   "source": [
    "def update_weight_predictor(w, a, y_pred, y_target):\n",
    "    new_w = np.zeros(w.shape)\n",
    "    for i in range(m):\n",
    "        err = 0 if y_pred[i] == y_target[i] else 1\n",
    "        new_w[i] = w[i] * np.exp(a*err)\n",
    "    return new_w\n",
    "        "
   ]
  },
  {
   "cell_type": "markdown",
   "metadata": {},
   "source": [
    "### Train"
   ]
  },
  {
   "cell_type": "code",
   "execution_count": 181,
   "metadata": {},
   "outputs": [],
   "source": [
    "# Membuat np array bobot awal\n",
    "w = np.array([1/m for _ in range(m)])\n",
    "\n",
    "# Membuat array bobot predictor dengan ukuran iterasi x jumlah fitur\n",
    "a = np.zeros(shape=T)\n",
    "\n",
    "# Membuat array untuk weak learner\n",
    "wl = np.zeros(shape=T, dtype=object)\n",
    "\n",
    "for t in range(T):\n",
    "    # Weak Learner\n",
    "    #weak_learn = LogisticRegression(random_state=0)\n",
    "    weak_learn = DecisionTreeClassifier(max_depth=1)\n",
    "    # Weak Learner Train\n",
    "    weak_learn = weak_learn.fit(fitur, target, sample_weight=w)\n",
    "    \n",
    "    # weighted error dari Predictor ke-j\n",
    "    y_pred = weak_learn.predict(fitur)\n",
    "    rj = weight_error_predictor(w, y_pred, target)\n",
    "    \n",
    "    # Bobot Predictor\n",
    "    aj = weight_predictor(rj, lrate=1)\n",
    "    a[t] = aj\n",
    "    \n",
    "    # Update weight dataset\n",
    "    w = update_weight_predictor(w, aj, y_pred, target)\n",
    "    \n",
    "    # Menambhakan weak learner ke array\n",
    "    wl[t] = weak_learn \n",
    "    "
   ]
  },
  {
   "cell_type": "markdown",
   "metadata": {},
   "source": [
    "### Prediksi Function"
   ]
  },
  {
   "cell_type": "code",
   "execution_count": 176,
   "metadata": {},
   "outputs": [],
   "source": [
    "def predict(fitur, a, weak_learn):\n",
    "    # Mendapatkan hipotesis dari weak learn\n",
    "    y_pred = np.array([wl.predict(fitur) for wl in weak_learn], dtype=int)\n",
    "    # Hasil Prediksi\n",
    "    return np.sign(np.dot(a, y_pred))[0]\n",
    "        "
   ]
  },
  {
   "cell_type": "markdown",
   "metadata": {},
   "source": [
    "### Testing Data"
   ]
  },
  {
   "cell_type": "code",
   "execution_count": 177,
   "metadata": {},
   "outputs": [],
   "source": [
    "# Membuat tapungan\n",
    "prediksi = np.zeros(shape=m)\n",
    "\n",
    "for i in range(m):\n",
    "    pr = predict([fitur[i]], a, wl)\n",
    "    prediksi[i] = pr\n"
   ]
  },
  {
   "cell_type": "code",
   "execution_count": 178,
   "metadata": {
    "scrolled": true
   },
   "outputs": [
    {
     "name": "stdout",
     "output_type": "stream",
     "text": [
      "[-1. -1. -1. -1. -1. -1. -1. -1. -1. -1. -1. -1. -1. -1. -1. -1. -1. -1.\n",
      " -1. -1. -1. -1. -1. -1. -1. -1. -1. -1. -1. -1. -1. -1. -1. -1. -1. -1.\n",
      " -1. -1. -1. -1. -1. -1. -1. -1. -1. -1. -1. -1. -1. -1. -1. -1. -1. -1.\n",
      " -1. -1. -1. -1. -1. -1. -1. -1. -1. -1. -1. -1. -1. -1. -1. -1. -1. -1.\n",
      " -1. -1. -1. -1. -1. -1. -1. -1. -1. -1. -1. -1. -1. -1. -1. -1. -1. -1.\n",
      " -1. -1. -1. -1. -1. -1. -1. -1. -1. -1. -1. -1. -1. -1. -1. -1. -1. -1.\n",
      " -1. -1. -1. -1. -1. -1. -1. -1. -1. -1. -1. -1. -1. -1. -1. -1. -1. -1.\n",
      " -1. -1. -1. -1. -1. -1. -1. -1. -1. -1. -1. -1. -1. -1. -1. -1. -1. -1.\n",
      " -1. -1. -1. -1. -1. -1. -1. -1. -1. -1. -1. -1. -1. -1. -1. -1. -1. -1.\n",
      " -1. -1. -1. -1. -1. -1. -1. -1. -1. -1. -1. -1. -1. -1.]\n",
      "[ 1  1  1  1  1 -1 -1 -1 -1 -1  1  1  1  1  1  1  1  1  1  1 -1 -1 -1 -1\n",
      " -1 -1 -1 -1 -1 -1 -1 -1 -1 -1 -1 -1 -1 -1 -1 -1 -1 -1 -1 -1 -1 -1  1  1\n",
      "  1  1  1 -1 -1 -1 -1 -1  1  1  1  1  1 -1 -1 -1 -1 -1  1  1  1  1  1 -1\n",
      " -1 -1 -1 -1 -1 -1 -1 -1 -1  1  1  1  1  1 -1 -1 -1 -1 -1 -1 -1 -1 -1 -1\n",
      " -1 -1 -1 -1 -1  1  1  1  1  1 -1 -1 -1 -1 -1  1  1  1  1  1 -1 -1 -1 -1\n",
      " -1 -1 -1 -1 -1 -1 -1 -1 -1 -1 -1 -1 -1 -1 -1 -1 -1 -1 -1 -1 -1 -1 -1 -1\n",
      " -1 -1  1  1  1  1  1  1  1  1  1  1 -1 -1 -1 -1 -1 -1 -1 -1 -1 -1  1  1\n",
      "  1  1  1  1  1  1  1  1]\n"
     ]
    }
   ],
   "source": [
    "print(prediksi)\n",
    "print(target)"
   ]
  },
  {
   "cell_type": "markdown",
   "metadata": {},
   "source": [
    "### Confusion Matrix"
   ]
  },
  {
   "cell_type": "code",
   "execution_count": 179,
   "metadata": {},
   "outputs": [
    {
     "name": "stdout",
     "output_type": "stream",
     "text": [
      "[[111  65]\n",
      " [  0   0]]\n"
     ]
    },
    {
     "data": {
      "image/png": "[encoded data removed]",
      "text/plain": [
       "<Figure size 288x288 with 2 Axes>"
      ]
     },
     "metadata": {
      "needs_background": "light"
     },
     "output_type": "display_data"
    }
   ],
   "source": [
    "cm = confusion_matrix(prediksi, target)\n",
    "print(cm)\n",
    "plt.matshow(cm)\n",
    "plt.title(\"Confusion Matrix Colorfull\")\n",
    "plt.xlabel(\"Prediksi\")\n",
    "plt.xlabel(\"Target\")\n",
    "cb = plt.colorbar()"
   ]
  },
  {
   "cell_type": "code",
   "execution_count": 180,
   "metadata": {},
   "outputs": [
    {
     "name": "stdout",
     "output_type": "stream",
     "text": [
      "F1-skor Keseluruhan\n",
      "Precisision =  0.0\n",
      "Recall      =  0.0\n"
     ]
    },
    {
     "name": "stderr",
     "output_type": "stream",
     "text": [
      "C:\\ProgramData\\Anaconda3\\lib\\site-packages\\sklearn\\metrics\\classification.py:1143: UndefinedMetricWarning: Precision is ill-defined and being set to 0.0 due to no predicted samples.\n",
      "  'precision', 'predicted', average, warn_for)\n"
     ]
    }
   ],
   "source": [
    "print(\"F1-skor Keseluruhan\")\n",
    "precision = precision_score(target, prediksi)\n",
    "recall = recall_score(target, prediksi)\n",
    "print(\"Precisision = \", precision)\n",
    "print(\"Recall      = \", recall)"
   ]
  },
  {
   "cell_type": "code",
   "execution_count": 173,
   "metadata": {},
   "outputs": [
    {
     "name": "stdout",
     "output_type": "stream",
     "text": [
      "0.6306818181818182\n"
     ]
    }
   ],
   "source": [
    "c = 0\n",
    "for i in range(m):\n",
    "    if prediksi[i] == target[i]:\n",
    "        c += 1\n",
    "print(c/m)"
   ]
  },
  {
   "cell_type": "code",
   "execution_count": null,
   "metadata": {},
   "outputs": [],
   "source": []
  }
 ],
 "metadata": {
  "kernelspec": {
   "display_name": "Python 3",
   "language": "python",
   "name": "python3"
  },
  "language_info": {
   "codemirror_mode": {
    "name": "ipython",
    "version": 3
   },
   "file_extension": ".py",
   "mimetype": "text/x-python",
   "name": "python",
   "nbconvert_exporter": "python",
   "pygments_lexer": "ipython3",
   "version": "3.7.3"
  }
 },
 "nbformat": 4,
 "nbformat_minor": 2
}
