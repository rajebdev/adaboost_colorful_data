{
 "cells": [
  {
   "cell_type": "markdown",
   "metadata": {},
   "source": [
    "# Proses Training Dataset Colorful"
   ]
  },
  {
   "cell_type": "markdown",
   "metadata": {},
   "source": [
    "### Importing Library"
   ]
  },
  {
   "cell_type": "code",
   "execution_count": 2,
   "metadata": {},
   "outputs": [],
   "source": [
    "import os\n",
    "import csv\n",
    "import numpy as np"
   ]
  },
  {
   "cell_type": "code",
   "execution_count": 3,
   "metadata": {},
   "outputs": [],
   "source": [
    "from sklearn.linear_model import LogisticRegression\n",
    "from sklearn.tree import DecisionTreeClassifier\n",
    "from sklearn.metrics import confusion_matrix\n",
    "from sklearn.metrics import precision_score\n",
    "from sklearn.metrics import recall_score\n",
    "from matplotlib import pyplot as plt\n",
    "import pandas as pd"
   ]
  },
  {
   "cell_type": "markdown",
   "metadata": {},
   "source": [
    "### Load Data fitur From CSV"
   ]
  },
  {
   "cell_type": "code",
   "execution_count": 16,
   "metadata": {},
   "outputs": [],
   "source": [
    "# read csv file directory\n",
    "df = pd.read_csv('data/dataset_color.csv')\n",
    "\n",
    "fitur = []\n",
    "for i in range(len(df['fitur0'])): # loop baris / jumlah data\n",
    "    temp = []\n",
    "    for f in range(20): # loop  kolom / jumlah fitur\n",
    "        temp.append(df['fitur'+str(f)][i])\n",
    "    fitur.append(temp)\n",
    "    \n",
    "fitur = np.array(fitur)\n",
    "target = np.array([k for k in df['kelas']])\n"
   ]
  },
  {
   "cell_type": "code",
   "execution_count": 17,
   "metadata": {},
   "outputs": [
    {
     "name": "stdout",
     "output_type": "stream",
     "text": [
      "[[ 85055   8172  13081 ...   2005   1021   5782]\n",
      " [ 28650 105170  25987 ...    360  12984    684]\n",
      " [ 88669  27481   2367 ...   1616   1189   1024]\n",
      " ...\n",
      " [ 38015   8628  40532 ...   2398  28003   3457]\n",
      " [ 20584  13019   7969 ...   1131   2253    994]\n",
      " [130198   4542   3947 ...    785   3089   5860]] [ 1  1  1  1  1 -1 -1 -1 -1 -1  1  1  1  1  1  1  1  1  1  1 -1 -1 -1 -1\n",
      " -1 -1 -1 -1 -1 -1 -1 -1 -1 -1 -1 -1 -1 -1 -1 -1 -1 -1 -1 -1 -1 -1  1  1\n",
      "  1  1  1 -1 -1 -1 -1 -1  1  1  1  1  1 -1 -1 -1 -1 -1  1  1  1  1  1 -1\n",
      " -1 -1 -1 -1 -1 -1 -1 -1 -1  1  1  1  1  1 -1 -1 -1 -1 -1 -1 -1 -1 -1 -1\n",
      " -1 -1 -1 -1 -1  1  1  1  1  1 -1 -1 -1 -1 -1  1  1  1  1  1 -1 -1 -1 -1\n",
      " -1 -1 -1 -1 -1 -1 -1 -1 -1 -1 -1 -1 -1 -1 -1 -1 -1 -1 -1 -1 -1 -1 -1 -1\n",
      " -1 -1  1  1  1  1  1  1  1  1  1  1 -1 -1 -1 -1 -1 -1 -1 -1 -1 -1  1  1\n",
      "  1  1  1  1  1  1  1  1]\n"
     ]
    }
   ],
   "source": [
    "print(fitur, target)"
   ]
  },
  {
   "cell_type": "markdown",
   "metadata": {},
   "source": [
    "## Adaboost Classification"
   ]
  },
  {
   "cell_type": "code",
   "execution_count": 19,
   "metadata": {},
   "outputs": [],
   "source": [
    "num_feature = len(fitur[0]) # jumlah fitur 20\n",
    "m = len(target) # jumlah data 176\n",
    "T = 10 # jumlah iterasi 10"
   ]
  },
  {
   "cell_type": "markdown",
   "metadata": {},
   "source": [
    "### Function Step Adaboost"
   ]
  },
  {
   "cell_type": "code",
   "execution_count": 20,
   "metadata": {},
   "outputs": [],
   "source": [
    "def weight_error_predictor(w, y_pred, y_target):\n",
    "    sumNot = 0\n",
    "    for i in range(m):\n",
    "        if y_pred[i] != y_target[i]:\n",
    "            sumNot += w[i]\n",
    "    return sumNot/w.sum()\n",
    "      "
   ]
  },
  {
   "cell_type": "code",
   "execution_count": 21,
   "metadata": {},
   "outputs": [],
   "source": [
    "def weight_predictor(rj, lrate=1):\n",
    "    '''\n",
    "    Semakin besar weighted error akan membuat bobot predictor semakin \n",
    "    rendah, dan sebaliknya.\n",
    "    Bobot ini digunakan untuk update bobot tiap data pada dataset, \n",
    "    dan prediksi akhir (final aggregation)\n",
    "    '''\n",
    "    # np.log is ln, whereas np.log10 is your standard base 10 log.\n",
    "    return lrate * np.log((1-rj)/rj)\n",
    "    "
   ]
  },
  {
   "cell_type": "code",
   "execution_count": 22,
   "metadata": {},
   "outputs": [],
   "source": [
    "def update_weight_predictor(w, a, y_pred, y_target):\n",
    "    new_w = np.zeros(w.shape)\n",
    "    for i in range(m):\n",
    "        err = 0 if y_pred[i] == y_target[i] else 1\n",
    "        new_w[i] = w[i] * np.exp(a*err)\n",
    "    return new_w\n",
    "        "
   ]
  },
  {
   "cell_type": "markdown",
   "metadata": {},
   "source": [
    "### Train"
   ]
  },
  {
   "cell_type": "code",
   "execution_count": 23,
   "metadata": {},
   "outputs": [],
   "source": [
    "# Membuat np array bobot awal\n",
    "w = np.array([1/m for _ in range(m)])\n",
    "\n",
    "# Membuat array bobot predictor dengan ukuran jumlah iterasi\n",
    "a = np.zeros(shape=T)\n",
    "\n",
    "# Membuat array untuk weak learner\n",
    "wl = np.zeros(shape=T, dtype=object)\n",
    "\n",
    "for t in range(T):\n",
    "    # Weak Learner\n",
    "    #weak_learn = LogisticRegression(random_state=0)\n",
    "    weak_learn = DecisionTreeClassifier(max_depth=1)\n",
    "    # Weak Learner Train\n",
    "    weak_learn = weak_learn.fit(fitur, target, sample_weight=w)\n",
    "    \n",
    "    # weighted error dari Predictor ke-j\n",
    "    y_pred = weak_learn.predict(fitur)\n",
    "    rj = weight_error_predictor(w, y_pred, target)\n",
    "    \n",
    "    # Bobot Predictor\n",
    "    aj = weight_predictor(rj, lrate=1)\n",
    "    a[t] = aj\n",
    "    \n",
    "    # Update weight dataset\n",
    "    w = update_weight_predictor(w, aj, y_pred, target)\n",
    "    \n",
    "    # Menambhakan weak learner ke array\n",
    "    wl[t] = weak_learn \n",
    "    "
   ]
  },
  {
   "cell_type": "code",
   "execution_count": 61,
   "metadata": {},
   "outputs": [],
   "source": [
    "## Saving Model\n",
    "import joblib\n",
    "for i, model in enumerate(wl):\n",
    "    joblib.dump(model, './model/ds_tree_%s.pkl'%i)\n",
    "\n",
    "file_a = open('./model/bbt_pred.csv', 'w')\n",
    "for aj in a:\n",
    "    file_a.write('%s,'%aj)\n",
    "\n",
    "file_a.close()\n",
    "    "
   ]
  },
  {
   "cell_type": "code",
   "execution_count": 24,
   "metadata": {},
   "outputs": [
    {
     "name": "stdout",
     "output_type": "stream",
     "text": [
      "[85055  8172 13081 49538 20881  4424  5544  1379  4329   919  2665  9067\n",
      "  8647  1021 13625  1406  1439  2005  1021  5782]\n",
      "[1.22377543 0.83681558 1.19817576 1.04277464 1.01224779 0.93203089\n",
      " 0.93632423 0.40676802 0.61734525 0.8214544 ]\n"
     ]
    }
   ],
   "source": [
    "print(fitur[0])\n",
    "wl[5].predict([fitur[0]])\n",
    "print(a)"
   ]
  },
  {
   "cell_type": "code",
   "execution_count": null,
   "metadata": {},
   "outputs": [],
   "source": [
    "from sklearn.ensemble import AdaBoostClassifier\n",
    "\n",
    "\n",
    "ada_clf = AdaBoostClassifier(DecisionTreeClassifier(max_depth=5), n_estimators=200,algorithm=\"SAMME.R\", learning_rate=1)\n",
    "ada_clf.fit(fitur, target)\n",
    "y_pred=ada_clf.predict(fitur)\n",
    "print(fitur)\n",
    "print(y_pred)\n",
    "print(target)"
   ]
  },
  {
   "cell_type": "markdown",
   "metadata": {},
   "source": [
    "### Prediksi Function"
   ]
  },
  {
   "cell_type": "code",
   "execution_count": 36,
   "metadata": {},
   "outputs": [],
   "source": [
    "def predict(fitur, a, weak_learn):\n",
    "    # Mendapatkan hipotesis dari weak learn\n",
    "    y_pred = np.array([wl.predict(fitur) for wl in weak_learn], dtype=int)\n",
    "    # Hasil Prediksi\n",
    "    return np.sign(np.dot(a, y_pred))[0]\n",
    "        "
   ]
  },
  {
   "cell_type": "markdown",
   "metadata": {},
   "source": [
    "### Testing Data"
   ]
  },
  {
   "cell_type": "code",
   "execution_count": 37,
   "metadata": {},
   "outputs": [],
   "source": [
    "# Membuat tapungan\n",
    "prediksi = np.zeros(shape=m)\n",
    "\n",
    "for i in range(m):\n",
    "    pr = predict([fitur[i]], a, wl)\n",
    "    prediksi[i] = pr\n"
   ]
  },
  {
   "cell_type": "code",
   "execution_count": 38,
   "metadata": {},
   "outputs": [
    {
     "name": "stdout",
     "output_type": "stream",
     "text": [
      "[0.35439583 0.03405    0.05450417 0.20640833 0.08700417 0.01843333\n",
      " 0.0231     0.00574583 0.0180375  0.00382917 0.01110417 0.03777917\n",
      " 0.03602917 0.00425417 0.05677083 0.00585833 0.00599583 0.00835417\n",
      " 0.00425417 0.02409167]\n"
     ]
    }
   ],
   "source": [
    "print(fitur[0])"
   ]
  },
  {
   "cell_type": "code",
   "execution_count": 39,
   "metadata": {
    "scrolled": true
   },
   "outputs": [
    {
     "name": "stdout",
     "output_type": "stream",
     "text": [
      "[ 1. -1.  1.  1.  1. -1. -1. -1. -1. -1.  1.  1.  1. -1. -1.  1.  1.  1.\n",
      "  1.  1. -1. -1. -1. -1. -1.  1. -1. -1. -1. -1. -1.  1. -1. -1.  1. -1.\n",
      " -1.  1.  1.  1. -1. -1. -1. -1. -1. -1.  1.  1.  1.  1.  1. -1. -1. -1.\n",
      " -1. -1.  1.  1.  1.  1.  1. -1. -1. -1. -1. -1.  1.  1. -1.  1.  1. -1.\n",
      " -1. -1. -1. -1. -1. -1. -1. -1. -1.  1.  1.  1.  1.  1. -1. -1. -1. -1.\n",
      "  1. -1. -1. -1. -1. -1. -1. -1. -1. -1. -1.  1.  1.  1.  1.  1. -1. -1.\n",
      " -1.  1.  1.  1.  1.  1.  1.  1. -1. -1. -1. -1. -1. -1.  1. -1.  1. -1.\n",
      " -1. -1. -1. -1. -1. -1. -1. -1. -1. -1. -1. -1. -1. -1. -1. -1. -1. -1.\n",
      " -1. -1.  1.  1.  1. -1.  1.  1.  1.  1.  1. -1. -1. -1. -1. -1. -1. -1.\n",
      " -1. -1. -1. -1.  1.  1.  1.  1.  1.  1. -1.  1.  1.  1.]\n",
      "[ 1  1  1  1  1 -1 -1 -1 -1 -1  1  1  1  1  1  1  1  1  1  1 -1 -1 -1 -1\n",
      " -1 -1 -1 -1 -1 -1 -1 -1 -1 -1 -1 -1 -1 -1 -1 -1 -1 -1 -1 -1 -1 -1  1  1\n",
      "  1  1  1 -1 -1 -1 -1 -1  1  1  1  1  1 -1 -1 -1 -1 -1  1  1  1  1  1 -1\n",
      " -1 -1 -1 -1 -1 -1 -1 -1 -1  1  1  1  1  1 -1 -1 -1 -1 -1 -1 -1 -1 -1 -1\n",
      " -1 -1 -1 -1 -1  1  1  1  1  1 -1 -1 -1 -1 -1  1  1  1  1  1 -1 -1 -1 -1\n",
      " -1 -1 -1 -1 -1 -1 -1 -1 -1 -1 -1 -1 -1 -1 -1 -1 -1 -1 -1 -1 -1 -1 -1 -1\n",
      " -1 -1  1  1  1  1  1  1  1  1  1  1 -1 -1 -1 -1 -1 -1 -1 -1 -1 -1  1  1\n",
      "  1  1  1  1  1  1  1  1]\n"
     ]
    }
   ],
   "source": [
    "print(prediksi)\n",
    "print(target)"
   ]
  },
  {
   "cell_type": "markdown",
   "metadata": {},
   "source": [
    "### Confusion Matrix"
   ]
  },
  {
   "cell_type": "code",
   "execution_count": 40,
   "metadata": {},
   "outputs": [
    {
     "name": "stdout",
     "output_type": "stream",
     "text": [
      "[[100   7]\n",
      " [ 11  58]]\n"
     ]
    },
    {
     "data": {
      "image/png": "[encoded data removed]",
      "text/plain": [
       "<Figure size 288x288 with 2 Axes>"
      ]
     },
     "metadata": {
      "needs_background": "light"
     },
     "output_type": "display_data"
    }
   ],
   "source": [
    "cm = confusion_matrix(prediksi, target)\n",
    "print(cm)\n",
    "plt.matshow(cm)\n",
    "plt.title(\"Confusion Matrix Colorfull\")\n",
    "plt.xlabel(\"Prediksi\")\n",
    "plt.xlabel(\"Target\")\n",
    "cb = plt.colorbar()"
   ]
  },
  {
   "cell_type": "code",
   "execution_count": 16,
   "metadata": {},
   "outputs": [
    {
     "name": "stdout",
     "output_type": "stream",
     "text": [
      "F1-skor Keseluruhan\n",
      "Precisision =  0.8405797101449275\n",
      "Recall      =  0.8923076923076924\n"
     ]
    }
   ],
   "source": [
    "print(\"F1-skor Keseluruhan\")\n",
    "precision = precision_score(target, prediksi)\n",
    "recall = recall_score(target, prediksi)\n",
    "print(\"Precisision = \", precision)\n",
    "print(\"Recall      = \", recall)"
   ]
  },
  {
   "cell_type": "code",
   "execution_count": 17,
   "metadata": {},
   "outputs": [
    {
     "name": "stdout",
     "output_type": "stream",
     "text": [
      "0.8977272727272727\n"
     ]
    }
   ],
   "source": [
    "c = 0\n",
    "for i in range(m):\n",
    "    if prediksi[i] == target[i]:\n",
    "        c += 1\n",
    "print(c/m)"
   ]
  },
  {
   "cell_type": "code",
   "execution_count": null,
   "metadata": {},
   "outputs": [],
   "source": []
  }
 ],
 "metadata": {
  "kernelspec": {
   "display_name": "Python 3",
   "language": "python",
   "name": "python3"
  },
  "language_info": {
   "codemirror_mode": {
    "name": "ipython",
    "version": 3
   },
   "file_extension": ".py",
   "mimetype": "text/x-python",
   "name": "python",
   "nbconvert_exporter": "python",
   "pygments_lexer": "ipython3",
   "version": "3.7.9"
  }
 },
 "nbformat": 4,
 "nbformat_minor": 2
}
