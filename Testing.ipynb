{
 "cells": [
  {
   "cell_type": "code",
   "execution_count": 28,
   "metadata": {},
   "outputs": [],
   "source": [
    "import csv\n",
    "import joblib\n",
    "import numpy as np\n"
   ]
  },
  {
   "cell_type": "code",
   "execution_count": 29,
   "metadata": {},
   "outputs": [],
   "source": [
    "import cv2\n",
    "from sklearn.cluster import KMeans\n",
    "import numpy as np\n",
    "import cv2\n",
    "from collections import Counter\n"
   ]
  },
  {
   "cell_type": "code",
   "execution_count": 30,
   "metadata": {},
   "outputs": [
    {
     "name": "stdout",
     "output_type": "stream",
     "text": [
      "[1.22377543 0.83681558 1.19817576 1.04277464 1.01224779 0.93203089\n",
      " 0.93632423 0.40676802 0.61734525 0.8214544 ] [DecisionTreeClassifier(max_depth=1) DecisionTreeClassifier(max_depth=1)\n",
      " DecisionTreeClassifier(max_depth=1) DecisionTreeClassifier(max_depth=1)\n",
      " DecisionTreeClassifier(max_depth=1) DecisionTreeClassifier(max_depth=1)\n",
      " DecisionTreeClassifier(max_depth=1) DecisionTreeClassifier(max_depth=1)\n",
      " DecisionTreeClassifier(max_depth=1) DecisionTreeClassifier(max_depth=1)]\n"
     ]
    }
   ],
   "source": [
    "T=10\n",
    "\n",
    "# Load Bobot Predictor\n",
    "a_file = csv.reader(open('./model/bbt_pred.csv'), delimiter=',')\n",
    "a = np.zeros(shape=T)\n",
    "for row in a_file:\n",
    "    for i, ai in enumerate(row[:-1]):\n",
    "        a[i] = ai\n",
    "\n",
    "# Load Model Predictor\n",
    "wl = np.zeros(shape=T, dtype=object)\n",
    "for i in range(T):\n",
    "    wl[i] = joblib.load(open(\"./model/ds_tree_%s.pkl\"%i, 'rb'))\n",
    "\n",
    "print(a, wl)"
   ]
  },
  {
   "cell_type": "code",
   "execution_count": 31,
   "metadata": {},
   "outputs": [],
   "source": [
    "def predict(fitur, a, weak_learn):\n",
    "    # Mendapatkan hipotesis dari weak learn\n",
    "    y_pred = np.array([wl.predict(fitur) for wl in weak_learn], dtype=int)\n",
    "    # Hasil Prediksi\n",
    "    return np.sign(np.dot(a, y_pred))[0]\n",
    "        "
   ]
  },
  {
   "cell_type": "code",
   "execution_count": 32,
   "metadata": {},
   "outputs": [],
   "source": [
    "def get_fitur(image_path, number_of_colors):\n",
    "    image = cv2.imread(image_path)\n",
    "    image = cv2.cvtColor(image, cv2.COLOR_BGR2RGB)\n",
    "    modified_image = cv2.resize(image, (600, 400), interpolation = cv2.INTER_AREA)\n",
    "    modified_image = modified_image.reshape(modified_image.shape[0]*modified_image.shape[1], 3)\n",
    "    \n",
    "    clf = KMeans(n_clusters = number_of_colors)\n",
    "    labels = clf.fit_predict(modified_image)\n",
    "    \n",
    "    counts = Counter(labels)\n",
    "    \n",
    "    #convert fitur to np array\n",
    "    fitur = np.zeros((20,1))\n",
    "    for i in range(len(counts)):\n",
    "        fitur[i] = counts[i]\n",
    "        \n",
    "    return fitur\n"
   ]
  },
  {
   "cell_type": "code",
   "execution_count": 35,
   "metadata": {},
   "outputs": [
    {
     "name": "stdout",
     "output_type": "stream",
     "text": [
      "Colorful\n"
     ]
    }
   ],
   "source": [
    "fitur = get_fitur(\"yes.png\", 20).astype(int)\n",
    "fitur = fitur.reshape((fitur.shape[0],))\n",
    "pr = predict([fitur], a, wl)\n",
    "print('Colorful' if pr > 0 else 'Nocolorful')"
   ]
  },
  {
   "cell_type": "code",
   "execution_count": null,
   "metadata": {},
   "outputs": [],
   "source": []
  }
 ],
 "metadata": {
  "kernelspec": {
   "display_name": "Python 3",
   "language": "python",
   "name": "python3"
  },
  "language_info": {
   "codemirror_mode": {
    "name": "ipython",
    "version": 3
   },
   "file_extension": ".py",
   "mimetype": "text/x-python",
   "name": "python",
   "nbconvert_exporter": "python",
   "pygments_lexer": "ipython3",
   "version": "3.7.9"
  }
 },
 "nbformat": 4,
 "nbformat_minor": 4
}
